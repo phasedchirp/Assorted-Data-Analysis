{
 "cells": [
  {
   "cell_type": "markdown",
   "metadata": {},
   "source": [
    "## What is the true normal human body temperature? \n",
    "\n",
    "#### Background\n",
    "\n",
    "The mean normal body temperature was held to be 37$^{\\circ}$C or 98.6$^{\\circ}$F for more than 120 years since it was first conceptualized and reported by Carl Wunderlich in a famous 1868 book. In 1992, this value was revised to 36.8$^{\\circ}$C or 98.2$^{\\circ}$F. \n",
    "\n",
    "#### Exercise\n",
    "In this exercise, you will analyze a dataset of human body temperatures and employ the concepts of hypothesis testing, confidence intervals, and statistical significance.\n",
    "\n",
    "Answer the following questions **in this notebook below and submit to your Github account**. \n",
    "\n",
    "1.  Is the distribution of body temperatures normal? \n",
    "    - Remember that this is a condition for the CLT, and hence the statistical tests we are using, to apply. \n",
    "2.  Is the true population mean really 98.6 degrees F?\n",
    "    - Bring out the one sample hypothesis test! In this situation, is it approriate to apply a z-test or a t-test? How will the result be different?\n",
    "3.  At what temperature should we consider someone's temperature to be \"abnormal\"?\n",
    "    - Start by computing the margin of error and confidence interval.\n",
    "4.  Is there a significant difference between males and females in normal temperature?\n",
    "    - Set up and solve for a two sample hypothesis testing.\n",
    "\n",
    "You can include written notes in notebook cells using Markdown: \n",
    "   - In the control panel at the top, choose Cell > Cell Type > Markdown\n",
    "   - Markdown syntax: http://nestacms.com/docs/creating-content/markdown-cheat-sheet\n",
    "\n",
    "#### Resources\n",
    "\n",
    "+ Information and data sources: http://www.amstat.org/publications/jse/datasets/normtemp.txt, http://www.amstat.org/publications/jse/jse_data_archive.htm\n",
    "+ Markdown syntax: http://nestacms.com/docs/creating-content/markdown-cheat-sheet\n",
    "\n",
    "****"
   ]
  },
  {
   "cell_type": "code",
   "execution_count": 1,
   "metadata": {
    "collapsed": false
   },
   "outputs": [],
   "source": [
    "%matplotlib inline\n",
    "from matplotlib import pyplot as plot\n",
    "import pandas as pd\n",
    "from scipy import stats\n",
    "from statsmodels.api import qqplot\n",
    "import numpy as np"
   ]
  },
  {
   "cell_type": "code",
   "execution_count": 2,
   "metadata": {
    "collapsed": false
   },
   "outputs": [],
   "source": [
    "df = pd.read_csv('data/human_body_temperature.csv')"
   ]
  },
  {
   "cell_type": "code",
   "execution_count": 3,
   "metadata": {
    "collapsed": true
   },
   "outputs": [],
   "source": [
    "# adding temp in degrees celsius\n",
    "df['tempC'] = df.temperature.apply(lambda x: (x-32)*(5/9.))"
   ]
  },
  {
   "cell_type": "markdown",
   "metadata": {},
   "source": [
    "#### Quick summary statistics"
   ]
  },
  {
   "cell_type": "code",
   "execution_count": 4,
   "metadata": {
    "collapsed": false
   },
   "outputs": [
    {
     "data": {
      "text/html": [
       "<div>\n",
       "<table border=\"1\" class=\"dataframe\">\n",
       "  <thead>\n",
       "    <tr style=\"text-align: right;\">\n",
       "      <th></th>\n",
       "      <th>temperature</th>\n",
       "      <th>heart_rate</th>\n",
       "      <th>tempC</th>\n",
       "    </tr>\n",
       "  </thead>\n",
       "  <tbody>\n",
       "    <tr>\n",
       "      <th>count</th>\n",
       "      <td>130.00</td>\n",
       "      <td>130.00</td>\n",
       "      <td>130.00</td>\n",
       "    </tr>\n",
       "    <tr>\n",
       "      <th>mean</th>\n",
       "      <td>98.25</td>\n",
       "      <td>73.76</td>\n",
       "      <td>36.81</td>\n",
       "    </tr>\n",
       "    <tr>\n",
       "      <th>std</th>\n",
       "      <td>0.73</td>\n",
       "      <td>7.06</td>\n",
       "      <td>0.41</td>\n",
       "    </tr>\n",
       "    <tr>\n",
       "      <th>min</th>\n",
       "      <td>96.30</td>\n",
       "      <td>57.00</td>\n",
       "      <td>35.72</td>\n",
       "    </tr>\n",
       "    <tr>\n",
       "      <th>25%</th>\n",
       "      <td>97.80</td>\n",
       "      <td>69.00</td>\n",
       "      <td>36.56</td>\n",
       "    </tr>\n",
       "    <tr>\n",
       "      <th>50%</th>\n",
       "      <td>98.30</td>\n",
       "      <td>74.00</td>\n",
       "      <td>36.83</td>\n",
       "    </tr>\n",
       "    <tr>\n",
       "      <th>75%</th>\n",
       "      <td>98.70</td>\n",
       "      <td>79.00</td>\n",
       "      <td>37.06</td>\n",
       "    </tr>\n",
       "    <tr>\n",
       "      <th>max</th>\n",
       "      <td>100.80</td>\n",
       "      <td>89.00</td>\n",
       "      <td>38.22</td>\n",
       "    </tr>\n",
       "  </tbody>\n",
       "</table>\n",
       "</div>"
      ],
      "text/plain": [
       "       temperature  heart_rate   tempC\n",
       "count       130.00      130.00  130.00\n",
       "mean         98.25       73.76   36.81\n",
       "std           0.73        7.06    0.41\n",
       "min          96.30       57.00   35.72\n",
       "25%          97.80       69.00   36.56\n",
       "50%          98.30       74.00   36.83\n",
       "75%          98.70       79.00   37.06\n",
       "max         100.80       89.00   38.22"
      ]
     },
     "execution_count": 4,
     "metadata": {},
     "output_type": "execute_result"
    }
   ],
   "source": [
    "df.describe().apply(lambda x: np.round(x,2))"
   ]
  },
  {
   "cell_type": "code",
   "execution_count": 5,
   "metadata": {
    "collapsed": false
   },
   "outputs": [
    {
     "data": {
      "text/html": [
       "<div>\n",
       "<table border=\"1\" class=\"dataframe\">\n",
       "  <thead>\n",
       "    <tr style=\"text-align: right;\">\n",
       "      <th></th>\n",
       "      <th></th>\n",
       "      <th>heart_rate</th>\n",
       "      <th>tempC</th>\n",
       "      <th>temperature</th>\n",
       "    </tr>\n",
       "    <tr>\n",
       "      <th>gender</th>\n",
       "      <th></th>\n",
       "      <th></th>\n",
       "      <th></th>\n",
       "      <th></th>\n",
       "    </tr>\n",
       "  </thead>\n",
       "  <tbody>\n",
       "    <tr>\n",
       "      <th rowspan=\"8\" valign=\"top\">F</th>\n",
       "      <th>count</th>\n",
       "      <td>65.00</td>\n",
       "      <td>65.00</td>\n",
       "      <td>65.00</td>\n",
       "    </tr>\n",
       "    <tr>\n",
       "      <th>mean</th>\n",
       "      <td>74.15</td>\n",
       "      <td>36.89</td>\n",
       "      <td>98.39</td>\n",
       "    </tr>\n",
       "    <tr>\n",
       "      <th>std</th>\n",
       "      <td>8.11</td>\n",
       "      <td>0.41</td>\n",
       "      <td>0.74</td>\n",
       "    </tr>\n",
       "    <tr>\n",
       "      <th>min</th>\n",
       "      <td>57.00</td>\n",
       "      <td>35.78</td>\n",
       "      <td>96.40</td>\n",
       "    </tr>\n",
       "    <tr>\n",
       "      <th>25%</th>\n",
       "      <td>68.00</td>\n",
       "      <td>36.67</td>\n",
       "      <td>98.00</td>\n",
       "    </tr>\n",
       "    <tr>\n",
       "      <th>50%</th>\n",
       "      <td>76.00</td>\n",
       "      <td>36.89</td>\n",
       "      <td>98.40</td>\n",
       "    </tr>\n",
       "    <tr>\n",
       "      <th>75%</th>\n",
       "      <td>80.00</td>\n",
       "      <td>37.11</td>\n",
       "      <td>98.80</td>\n",
       "    </tr>\n",
       "    <tr>\n",
       "      <th>max</th>\n",
       "      <td>89.00</td>\n",
       "      <td>38.22</td>\n",
       "      <td>100.80</td>\n",
       "    </tr>\n",
       "    <tr>\n",
       "      <th rowspan=\"8\" valign=\"top\">M</th>\n",
       "      <th>count</th>\n",
       "      <td>65.00</td>\n",
       "      <td>65.00</td>\n",
       "      <td>65.00</td>\n",
       "    </tr>\n",
       "    <tr>\n",
       "      <th>mean</th>\n",
       "      <td>73.37</td>\n",
       "      <td>36.72</td>\n",
       "      <td>98.10</td>\n",
       "    </tr>\n",
       "    <tr>\n",
       "      <th>std</th>\n",
       "      <td>5.88</td>\n",
       "      <td>0.39</td>\n",
       "      <td>0.70</td>\n",
       "    </tr>\n",
       "    <tr>\n",
       "      <th>min</th>\n",
       "      <td>58.00</td>\n",
       "      <td>35.72</td>\n",
       "      <td>96.30</td>\n",
       "    </tr>\n",
       "    <tr>\n",
       "      <th>25%</th>\n",
       "      <td>70.00</td>\n",
       "      <td>36.44</td>\n",
       "      <td>97.60</td>\n",
       "    </tr>\n",
       "    <tr>\n",
       "      <th>50%</th>\n",
       "      <td>73.00</td>\n",
       "      <td>36.72</td>\n",
       "      <td>98.10</td>\n",
       "    </tr>\n",
       "    <tr>\n",
       "      <th>75%</th>\n",
       "      <td>78.00</td>\n",
       "      <td>37.00</td>\n",
       "      <td>98.60</td>\n",
       "    </tr>\n",
       "    <tr>\n",
       "      <th>max</th>\n",
       "      <td>86.00</td>\n",
       "      <td>37.50</td>\n",
       "      <td>99.50</td>\n",
       "    </tr>\n",
       "  </tbody>\n",
       "</table>\n",
       "</div>"
      ],
      "text/plain": [
       "              heart_rate  tempC  temperature\n",
       "gender                                      \n",
       "F      count       65.00  65.00        65.00\n",
       "       mean        74.15  36.89        98.39\n",
       "       std          8.11   0.41         0.74\n",
       "       min         57.00  35.78        96.40\n",
       "       25%         68.00  36.67        98.00\n",
       "       50%         76.00  36.89        98.40\n",
       "       75%         80.00  37.11        98.80\n",
       "       max         89.00  38.22       100.80\n",
       "M      count       65.00  65.00        65.00\n",
       "       mean        73.37  36.72        98.10\n",
       "       std          5.88   0.39         0.70\n",
       "       min         58.00  35.72        96.30\n",
       "       25%         70.00  36.44        97.60\n",
       "       50%         73.00  36.72        98.10\n",
       "       75%         78.00  37.00        98.60\n",
       "       max         86.00  37.50        99.50"
      ]
     },
     "execution_count": 5,
     "metadata": {},
     "output_type": "execute_result"
    }
   ],
   "source": [
    "df.groupby(\"gender\").describe().apply(lambda x: np.round(x,2))"
   ]
  },
  {
   "cell_type": "markdown",
   "metadata": {},
   "source": [
    "\n",
    "Notably the mean temperature rounds to roughly 37 °C, which then converts to 98.6, suggesting the 98.6 value may be a result of rounding followed by conversion, rather than  conversion followed by rounding."
   ]
  },
  {
   "cell_type": "markdown",
   "metadata": {},
   "source": [
    "## Q1: Checking for approximate normality\n",
    "Using a q-q plot here"
   ]
  },
  {
   "cell_type": "code",
   "execution_count": 6,
   "metadata": {
    "collapsed": false
   },
   "outputs": [
    {
     "name": "stdout",
     "output_type": "stream",
     "text": [
      "normal q-q plot for the sample\n"
     ]
    },
    {
     "name": "stderr",
     "output_type": "stream",
     "text": [
      "/home/chirp/anaconda/lib/python2.7/site-packages/matplotlib/figure.py:387: UserWarning: matplotlib is currently using a non-GUI backend, so cannot show the figure\n",
      "  \"matplotlib is currently using a non-GUI backend, \"\n"
     ]
    },
    {
     "data": {
      "image/png": "[encoded data removed]",
      "text/plain": [
       "<matplotlib.figure.Figure at 0x7f15e1b8c490>"
      ]
     },
     "metadata": {},
     "output_type": "display_data"
    }
   ],
   "source": [
    "# ignore error message. without the .show() qqplot has some buggy behavior when run with %matplotlib inline\n",
    "print \"normal q-q plot for the sample\"\n",
    "qqplot(df.temperature,line='45',fit=True).show()"
   ]
  },
  {
   "cell_type": "markdown",
   "metadata": {},
   "source": [
    "The majority of the data appears to fit the normal distribution relatively well. However, the lowest and highest quantiles show less of a good fit. There's also some apparent discreetness in the data, which apparently arises from rounding in the original data (see documentation). Splitting by gender, the women show less of a good fit to the normal distribution than men."
   ]
  },
  {
   "cell_type": "code",
   "execution_count": 7,
   "metadata": {
    "collapsed": false
   },
   "outputs": [
    {
     "name": "stdout",
     "output_type": "stream",
     "text": [
      "normal q-q plot for women in the sample\n"
     ]
    },
    {
     "data": {
      "image/png": "[encoded data removed]",
      "text/plain": [
       "<matplotlib.figure.Figure at 0x7f15c050b690>"
      ]
     },
     "metadata": {},
     "output_type": "display_data"
    }
   ],
   "source": [
    "print \"normal q-q plot for women in the sample\"\n",
    "qqplot(df[df.gender==\"F\"].temperature,line='45',fit=True).show()"
   ]
  },
  {
   "cell_type": "code",
   "execution_count": 8,
   "metadata": {
    "collapsed": false
   },
   "outputs": [
    {
     "name": "stdout",
     "output_type": "stream",
     "text": [
      "normal q-q plot for men in the sample\n"
     ]
    },
    {
     "data": {
      "image/png": "[encoded data removed]",
      "text/plain": [
       "<matplotlib.figure.Figure at 0x7f15b54a1ed0>"
      ]
     },
     "metadata": {},
     "output_type": "display_data"
    }
   ],
   "source": [
    "print \"normal q-q plot for men in the sample\"\n",
    "qqplot(df[df.gender==\"M\"].temperature,line='45',fit=True).show()"
   ]
  },
  {
   "cell_type": "markdown",
   "metadata": {},
   "source": [
    "#### Histograms"
   ]
  },
  {
   "cell_type": "markdown",
   "metadata": {},
   "source": [
    "Upper histogram is the distribution for women, lower for men."
   ]
  },
  {
   "cell_type": "code",
   "execution_count": 9,
   "metadata": {
    "collapsed": false
   },
   "outputs": [
    {
     "data": {
      "text/plain": [
       "gender\n",
       "F    [[Axes(0.125,0.563043;0.775x0.336957)], [Axes(...\n",
       "M    [[Axes(0.125,0.563043;0.775x0.336957)], [Axes(...\n",
       "dtype: object"
      ]
     },
     "execution_count": 9,
     "metadata": {},
     "output_type": "execute_result"
    },
    {
     "data": {
      "image/png": "[encoded data removed]",
      "text/plain": [
       "<matplotlib.figure.Figure at 0x7f15b5466590>"
      ]
     },
     "metadata": {},
     "output_type": "display_data"
    },
    {
     "data": {
      "image/png": "[encoded data removed]",
      "text/plain": [
       "<matplotlib.figure.Figure at 0x7f15b52ee210>"
      ]
     },
     "metadata": {},
     "output_type": "display_data"
    }
   ],
   "source": [
    "df.groupby(\"gender\").hist(column=[\"temperature\"],layout=(2,1),sharex=True)"
   ]
  },
  {
   "cell_type": "markdown",
   "metadata": {},
   "source": [
    "These aren't precisely normal looking, women moreso than men, but they aren't particularly badly off. However, given that the normality assumption is maybe not totally justified here, a t test might be more appropriate than a z test, being more robust with regard to this assumption."
   ]
  },
  {
   "cell_type": "markdown",
   "metadata": {},
   "source": [
    "##### Checking for relationship between heart rate and temperature\n",
    "Plot below suggests not *too* much going on with this."
   ]
  },
  {
   "cell_type": "code",
   "execution_count": 10,
   "metadata": {
    "collapsed": false
   },
   "outputs": [
    {
     "data": {
      "text/plain": [
       "<matplotlib.collections.PathCollection at 0x7f15b50b0490>"
      ]
     },
     "execution_count": 10,
     "metadata": {},
     "output_type": "execute_result"
    },
    {
     "data": {
      "image/png": "[encoded data removed]",
      "text/plain": [
       "<matplotlib.figure.Figure at 0x7f15b511b910>"
      ]
     },
     "metadata": {},
     "output_type": "display_data"
    }
   ],
   "source": [
    "genderBin = np.where(df.gender==\"F\",1,0)\n",
    "genderBin\n",
    "plot.scatter(df.temperature,df.heart_rate,c=genderBin,cmap='winter')"
   ]
  },
  {
   "cell_type": "markdown",
   "metadata": {},
   "source": [
    "#### Slightly more formally:"
   ]
  },
  {
   "cell_type": "code",
   "execution_count": 11,
   "metadata": {
    "collapsed": false,
    "scrolled": true
   },
   "outputs": [
    {
     "name": "stdout",
     "output_type": "stream",
     "text": [
      "Correlation between heart rate and temperature is 0.254 (p = 0.004)\n"
     ]
    }
   ],
   "source": [
    "print \"Correlation between heart rate and temperature is %.3f (p = %.3f)\" %stats.pearsonr(df.temperature,df.heart_rate)"
   ]
  },
  {
   "cell_type": "markdown",
   "metadata": {},
   "source": [
    "So the relationship is significant and is large enough that it isn't necessarily something to be ignored. While some of this might be attributed to the gender differences in heart rate, there's a still a lot of overlap. Will address this is a bit more detail below."
   ]
  },
  {
   "cell_type": "markdown",
   "metadata": {},
   "source": [
    "# Q2: Is mean body temp 98.6 °F?"
   ]
  },
  {
   "cell_type": "code",
   "execution_count": 12,
   "metadata": {
    "collapsed": false
   },
   "outputs": [
    {
     "name": "stdout",
     "output_type": "stream",
     "text": [
      "The t-statistic is -5.455 and the p-value is 2.41063204156e-07\n"
     ]
    }
   ],
   "source": [
    "ttest1 = stats.ttest_1samp(df.temperature,98.6)\n",
    "print \"The t-statistic is %.3f and the p-value is %s\" % ttest1"
   ]
  },
  {
   "cell_type": "markdown",
   "metadata": {
    "collapsed": true
   },
   "source": [
    "So, the mean here is significantly different from 98.6. This is not particularly shocking, given the mean of 98.25 calculated above. Constructing a 95% confidence interval around the mean, we find that it doesn't contain 98.6"
   ]
  },
  {
   "cell_type": "code",
   "execution_count": 13,
   "metadata": {
    "collapsed": false
   },
   "outputs": [
    {
     "name": "stdout",
     "output_type": "stream",
     "text": [
      "Lower: 98.12, Upper: 98.38\n"
     ]
    }
   ],
   "source": [
    "n = len(df.temperature)\n",
    "m = df.temperature.mean()\n",
    "se = stats.sem(df.temperature)\n",
    "h = se * stats.t.ppf(0.975, n-1)\n",
    "print \"Lower: %.2f, Upper: %.2f\" %(m-h,m+h)"
   ]
  },
  {
   "cell_type": "markdown",
   "metadata": {},
   "source": [
    "For comparison, a z-test gives quite similar answers:"
   ]
  },
  {
   "cell_type": "code",
   "execution_count": 14,
   "metadata": {
    "collapsed": false
   },
   "outputs": [
    {
     "data": {
      "text/plain": [
       "(-5.4548232923645195, 4.9021570141012155e-08)"
      ]
     },
     "execution_count": 14,
     "metadata": {},
     "output_type": "execute_result"
    }
   ],
   "source": [
    "from statsmodels.stats.weightstats import ztest\n",
    "ztest(x1=df.temperature,value=98.6)"
   ]
  },
  {
   "cell_type": "code",
   "execution_count": 15,
   "metadata": {
    "collapsed": false
   },
   "outputs": [
    {
     "data": {
      "text/plain": [
       "array([  99.3,   98.4,   97.8,   99.2,   98. ,   99.2,   98. ,   98.8,\n",
       "         98.4,   98.6,   98.8,   96.7,   98.2,   98.7,   97.8,   98.8,\n",
       "         98.3,   98.2,   97.2,   99.4,   98.3,   98.2,   98.6,   98.4,\n",
       "         97.8,   98. ,   97.8,   98.2,   98.4,   98.1,   98.3,   97.6,\n",
       "         98.5,   98.6,   99.3,   99.5,   99.1,   98.3,   97.9,   96.4,\n",
       "         98.4,   98.4,   96.9,   97.2,   99. ,   97.9,   97.4,   97.4,\n",
       "         97.9,   97.1,   98.9,   98.3,   98.5,   98.6,   98.2,   98.6,\n",
       "         98.8,   98.2,   98.2,   97.6,   99.1,   98.4,   98.2,   98.6,\n",
       "         98.7,   97.4,   97.4,   98.6,   98.7,   98.9,   98.1,   97.7,\n",
       "         98. ,   98.8,   99. ,   98.8,   98. ,   98.4,   97.4,   97.6,\n",
       "         98.8,   98. ,   97.5,   99.2,   98.6,   97.1,   98.6,   98. ,\n",
       "         98.7,   98.1,   97.8,  100. ,   98.8,   97.1,   97.8,   96.8,\n",
       "         99.9,   98.7,   98.8,   98. ,   99. ,   98.5,   98. ,   99.4,\n",
       "         97.6,   96.7,   97. ,   98.6,   98.7,   97.3,   98.8,   98. ,\n",
       "         98.2,   99.1,   99. ,   98. ,  100.8,   97.8,   98.7,   98.4,\n",
       "         97.7,   97.9,   99. ,   97.2,   97.5,   96.3,   97.7,   98.2,\n",
       "         97.9,   98.7])"
      ]
     },
     "execution_count": 15,
     "metadata": {},
     "output_type": "execute_result"
    }
   ],
   "source": [
    "np.array(df.temperature)"
   ]
  },
  {
   "cell_type": "markdown",
   "metadata": {},
   "source": [
    "# Q3: What counts as normal?"
   ]
  },
  {
   "cell_type": "markdown",
   "metadata": {
    "collapsed": true
   },
   "source": [
    "This is fairly difficult to say. Assuming nobody in the sample was seriously ill when the measurements were taken, there's a non-trivial range of variability (sample values range between 96 and 100 °F). Given that the distribution is roughly normal, 2 sds from the mean might be a useful guideline. This would give the range 96.79 to 99.71 °F, corresponding fairly well to Wikipedia's [listed values](https://en.wikipedia.org/wiki/Human_body_temperature) for the observed range."
   ]
  },
  {
   "cell_type": "markdown",
   "metadata": {},
   "source": [
    "# Q4: Gender differences?"
   ]
  },
  {
   "cell_type": "markdown",
   "metadata": {},
   "source": [
    "Do women and men show a difference in mean body temperature?"
   ]
  },
  {
   "cell_type": "code",
   "execution_count": 16,
   "metadata": {
    "collapsed": false
   },
   "outputs": [
    {
     "name": "stdout",
     "output_type": "stream",
     "text": [
      "The difference in means is 0.289 degrees\n",
      "The t-statistic is 2.285 and the p-value is 0.024\n"
     ]
    }
   ],
   "source": [
    "fTemp = df[df[\"gender\"] == \"F\"].temperature\n",
    "mTemp = df[df[\"gender\"] == \"M\"].temperature\n",
    "ttest2 = stats.ttest_ind(fTemp,mTemp)\n",
    "print \"The difference in means is %.3f degrees\" % (fTemp.mean() - mTemp.mean())\n",
    "print \"The t-statistic is %.3f and the p-value is %.3f\" % ttest2"
   ]
  },
  {
   "cell_type": "markdown",
   "metadata": {
    "collapsed": true
   },
   "source": [
    "So, the (small) differences in the estimated means calculated above also appear to be significant, although for the data shows a lot of overlap (see summary statistics above)."
   ]
  },
  {
   "cell_type": "markdown",
   "metadata": {},
   "source": [
    "## Taking into account heart rate:"
   ]
  },
  {
   "cell_type": "code",
   "execution_count": 17,
   "metadata": {
    "collapsed": true
   },
   "outputs": [],
   "source": [
    "import statsmodels.formula.api as smf"
   ]
  },
  {
   "cell_type": "code",
   "execution_count": 18,
   "metadata": {
    "collapsed": false
   },
   "outputs": [
    {
     "name": "stdout",
     "output_type": "stream",
     "text": [
      "                            OLS Regression Results                            \n",
      "==============================================================================\n",
      "Dep. Variable:            temperature   R-squared:                       0.098\n",
      "Model:                            OLS   Adj. R-squared:                  0.084\n",
      "Method:                 Least Squares   F-statistic:                     6.919\n",
      "Date:                Mon, 09 Nov 2015   Prob (F-statistic):            0.00141\n",
      "Time:                        18:47:28   Log-Likelihood:                -136.89\n",
      "No. Observations:                 130   AIC:                             279.8\n",
      "Df Residuals:                     127   BIC:                             288.4\n",
      "Df Model:                           2                                         \n",
      "Covariance Type:            nonrobust                                         \n",
      "===============================================================================\n",
      "                  coef    std err          t      P>|t|      [95.0% Conf. Int.]\n",
      "-------------------------------------------------------------------------------\n",
      "Intercept      96.5202      0.656    147.240      0.000        95.223    97.817\n",
      "gender[T.M]    -0.2694      0.123     -2.185      0.031        -0.513    -0.025\n",
      "heart_rate      0.0253      0.009      2.884      0.005         0.008     0.043\n",
      "==============================================================================\n",
      "Omnibus:                        2.290   Durbin-Watson:                   1.915\n",
      "Prob(Omnibus):                  0.318   Jarque-Bera (JB):                2.074\n",
      "Skew:                           0.029   Prob(JB):                        0.354\n",
      "Kurtosis:                       3.616   Cond. No.                         790.\n",
      "==============================================================================\n",
      "\n",
      "Warnings:\n",
      "[1] Standard Errors assume that the covariance matrix of the errors is correctly specified.\n"
     ]
    }
   ],
   "source": [
    "lm = smf.ols(formula='temperature ~ heart_rate + gender', data=df).fit()\n",
    "print lm.summary()"
   ]
  },
  {
   "cell_type": "markdown",
   "metadata": {},
   "source": [
    "Having heart rate and gender both in the model does not result in either individual effect vanishing suggesting that controlling for heart rate still leaves a gender difference (although some complications arise with interactions).\n",
    "\n",
    "Interpretation of the heart rate effect is a bit tricky. One possibility is that an elevated heart rate results in a raised body temperature. Alternatively, possibly higher temperature elevates the heart rate as some sort of physiological response."
   ]
  }
 ],
 "metadata": {
  "kernelspec": {
   "display_name": "Python 2",
   "language": "python",
   "name": "python2"
  },
  "language_info": {
   "codemirror_mode": {
    "name": "ipython",
    "version": 2
   },
   "file_extension": ".py",
   "mimetype": "text/x-python",
   "name": "python",
   "nbconvert_exporter": "python",
   "pygments_lexer": "ipython2",
   "version": "2.7.10"
  }
 },
 "nbformat": 4,
 "nbformat_minor": 0
}
